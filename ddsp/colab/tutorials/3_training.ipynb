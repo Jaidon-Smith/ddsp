{
  "nbformat": 4,
  "nbformat_minor": 0,
  "metadata": {
    "accelerator": "GPU",
    "colab": {
      "name": "3_training.ipynb",
      "provenance": [],
      "collapsed_sections": [
        "hMqWDc_m6rUC",
        "ZFIqwYGbZ-df",
        "khYj8yiMDxGL",
        "acGO0ifg0I3k",
        "Op0V8onI0VUK",
        "EWZQXFLehCU0",
        "uAZgDMV9hGyp",
        "MnnxpYbRrPrp",
        "IGvCE5BbrWTU",
        "RFEqt6e1DsqG",
        "2cj220vSF8_Y"
      ],
      "toc_visible": true
    },
    "kernelspec": {
      "display_name": "Python 3",
      "name": "python3"
    }
  },
  "cells": [
    {
      "cell_type": "markdown",
      "metadata": {
        "id": "NpJd3dlOCStH"
      },
      "source": [
        "<a href=\"https://colab.research.google.com/github/magenta/ddsp/blob/master/ddsp/colab/tutorials/3_training.ipynb\" target=\"_parent\"><img src=\"https://colab.research.google.com/assets/colab-badge.svg\" alt=\"Open In Colab\"/></a>"
      ]
    },
    {
      "cell_type": "markdown",
      "metadata": {
        "id": "hMqWDc_m6rUC"
      },
      "source": [
        "\n",
        "##### Copyright 2021 Google LLC.\n",
        "\n",
        "Licensed under the Apache License, Version 2.0 (the \"License\");\n",
        "\n",
        "\n",
        "\n"
      ]
    },
    {
      "cell_type": "code",
      "metadata": {
        "id": "VNhgka4UKNjf"
      },
      "source": [
        "# Copyright 2021 Google LLC. All Rights Reserved.\n",
        "#\n",
        "# Licensed under the Apache License, Version 2.0 (the \"License\");\n",
        "# you may not use this file except in compliance with the License.\n",
        "# You may obtain a copy of the License at\n",
        "#\n",
        "#     http://www.apache.org/licenses/LICENSE-2.0\n",
        "#\n",
        "# Unless required by applicable law or agreed to in writing, software\n",
        "# distributed under the License is distributed on an \"AS IS\" BASIS,\n",
        "# WITHOUT WARRANTIES OR CONDITIONS OF ANY KIND, either express or implied.\n",
        "# See the License for the specific language governing permissions and\n",
        "# limitations under the License.\n",
        "# =============================================================================="
      ],
      "execution_count": 1,
      "outputs": []
    },
    {
      "cell_type": "markdown",
      "metadata": {
        "id": "ZFIqwYGbZ-df"
      },
      "source": [
        "# DDSP Training\n",
        "\n",
        "This notebook demonstrates the libraries in [https://github.com/magenta/ddsp/tree/master/ddsp/training](https://github.com/magenta/ddsp/tree/master/ddsp/training). It is a simple example, overfitting a single audio sample, for educational purposes. \n",
        "\n",
        "_For a full training pipeline please use [ddsp/training/ddsp_run.py](https://github.com/magenta/ddsp/blob/master/ddsp/training/README.md#train-1) as in the [train_autoencoder.ipynb](https://github.com/magenta/ddsp/blob/master/ddsp/colab/demos/train_autoencoder.ipynb)_.\n",
        "\n"
      ]
    },
    {
      "cell_type": "code",
      "metadata": {
        "cellView": "both",
        "id": "S_jXCnwZ2QYW",
        "colab": {
          "base_uri": "https://localhost:8080/"
        },
        "outputId": "8838d8cc-c58c-498d-db6e-c537db03d7f7"
      },
      "source": [
        "# Install and import dependencies\n",
        "%tensorflow_version 2.x\n",
        "!pip install -qU ddsp\n",
        "\n",
        "# Ignore a bunch of deprecation warnings\n",
        "import warnings\n",
        "warnings.filterwarnings(\"ignore\")\n",
        "\n",
        "import time\n",
        "\n",
        "import ddsp\n",
        "from ddsp.training import (data, decoders, encoders, models, preprocessing, \n",
        "                           train_util, trainers)\n",
        "from ddsp.colab.colab_utils import play, specplot, DEFAULT_SAMPLE_RATE\n",
        "import gin\n",
        "import matplotlib.pyplot as plt\n",
        "import numpy as np\n",
        "import tensorflow.compat.v2 as tf\n",
        "import tensorflow_datasets as tfds\n",
        "\n",
        "sample_rate = DEFAULT_SAMPLE_RATE  # 16000"
      ],
      "execution_count": 2,
      "outputs": [
        {
          "output_type": "stream",
          "text": [
            "\u001b[K     |████████████████████████████████| 174kB 7.9MB/s \n",
            "\u001b[K     |████████████████████████████████| 215kB 13.3MB/s \n",
            "\u001b[K     |████████████████████████████████| 92kB 9.7MB/s \n",
            "\u001b[K     |████████████████████████████████| 3.8MB 14.5MB/s \n",
            "\u001b[K     |████████████████████████████████| 5.6MB 26.1MB/s \n",
            "\u001b[K     |████████████████████████████████| 368kB 54.5MB/s \n",
            "\u001b[K     |████████████████████████████████| 61kB 10.3MB/s \n",
            "\u001b[?25h  Building wheel for cloudml-hypertune (setup.py) ... \u001b[?25l\u001b[?25hdone\n",
            "  Building wheel for mir-eval (setup.py) ... \u001b[?25l\u001b[?25hdone\n",
            "  Building wheel for crepe (setup.py) ... \u001b[?25l\u001b[?25hdone\n",
            "  Building wheel for pretty-midi (setup.py) ... \u001b[?25l\u001b[?25hdone\n"
          ],
          "name": "stdout"
        },
        {
          "output_type": "stream",
          "text": [
            "WARNING:root:Argument whitelist is deprecated. Please use allowlist.\n"
          ],
          "name": "stderr"
        }
      ]
    },
    {
      "cell_type": "markdown",
      "metadata": {
        "id": "khYj8yiMDxGL"
      },
      "source": [
        "# Get a batch of data"
      ]
    },
    {
      "cell_type": "code",
      "metadata": {
        "id": "IzzaWKxVkYms",
        "colab": {
          "base_uri": "https://localhost:8080/",
          "height": 343
        },
        "outputId": "76270a37-e39b-4a7c-d948-1ba012ff9235"
      },
      "source": [
        "# Get a single example from NSynth.\n",
        "# Takes a few seconds to load from GCS.\n",
        "data_provider = data.NSynthTfds(split='test')\n",
        "dataset = data_provider.get_batch(batch_size=1, shuffle=False).take(1).repeat()\n",
        "batch = next(iter(dataset))\n",
        "audio = batch['audio']\n",
        "n_samples = audio.shape[1]\n",
        "\n",
        "specplot(audio)\n",
        "play(audio)"
      ],
      "execution_count": 3,
      "outputs": [
        {
          "output_type": "stream",
          "text": [
            "WARNING:absl:Using public TFDS GCS bucket to load NSynth. If not running on GCP, this will be very slow, and it is recommended you prepare the dataset locally with TFDS and set the data_dir appropriately.\n"
          ],
          "name": "stderr"
        },
        {
          "output_type": "display_data",
          "data": {
            "text/html": [
              "<div id=\"id_1\"> </div>"
            ],
            "text/plain": [
              "<IPython.core.display.HTML object>"
            ]
          },
          "metadata": {
            "tags": []
          }
        },
        {
          "output_type": "display_data",
          "data": {
            "image/png": "[encoded data removed]",
            "text/plain": [
              "<Figure size 288x331.976 with 1 Axes>"
            ]
          },
          "metadata": {
            "tags": []
          }
        }
      ]
    },
    {
      "cell_type": "markdown",
      "metadata": {
        "id": "acGO0ifg0I3k"
      },
      "source": [
        "# Get a distribution strategy\n"
      ]
    },
    {
      "cell_type": "code",
      "metadata": {
        "id": "VUlAeW40Wsvr",
        "colab": {
          "base_uri": "https://localhost:8080/"
        },
        "outputId": "053171c1-5fd0-4d69-9a4b-0c42d0b51f88"
      },
      "source": [
        "strategy = train_util.get_strategy()"
      ],
      "execution_count": 4,
      "outputs": [
        {
          "output_type": "stream",
          "text": [
            "INFO:tensorflow:Using MirroredStrategy with devices ('/job:localhost/replica:0/task:0/device:GPU:0',)\n"
          ],
          "name": "stdout"
        },
        {
          "output_type": "stream",
          "text": [
            "INFO:tensorflow:Using MirroredStrategy with devices ('/job:localhost/replica:0/task:0/device:GPU:0',)\n"
          ],
          "name": "stderr"
        }
      ]
    },
    {
      "cell_type": "markdown",
      "metadata": {
        "id": "Op0V8onI0VUK"
      },
      "source": [
        "# Get model and trainer"
      ]
    },
    {
      "cell_type": "markdown",
      "metadata": {
        "id": "EWZQXFLehCU0"
      },
      "source": [
        "## python "
      ]
    },
    {
      "cell_type": "code",
      "metadata": {
        "id": "HCqXRY1KeX8S"
      },
      "source": [
        "TIME_STEPS = 1000\n",
        "\n",
        "# Create Neural Networks.\n",
        "preprocessor = preprocessing.F0LoudnessPreprocessor(time_steps=TIME_STEPS)\n",
        "\n",
        "decoder = decoders.RnnFcDecoder(rnn_channels = 256,\n",
        "                                rnn_type = 'gru',\n",
        "                                ch = 256,\n",
        "                                layers_per_stack = 1,\n",
        "                                input_keys = ('ld_scaled', 'f0_scaled'),\n",
        "                                output_splits = (('amps', 1),\n",
        "                                                 ('harmonic_distribution', 45),\n",
        "                                                 ('noise_magnitudes', 45)))\n",
        "\n",
        "# Create Processors.\n",
        "harmonic = ddsp.synths.Harmonic(n_samples=n_samples, \n",
        "                                sample_rate=sample_rate,\n",
        "                                name='harmonic')\n",
        "\n",
        "noise = ddsp.synths.FilteredNoise(window_size=0,\n",
        "                                  initial_bias=-10.0,\n",
        "                                  name='noise')\n",
        "add = ddsp.processors.Add(name='add')\n",
        "\n",
        "# Create ProcessorGroup.\n",
        "dag = [(harmonic, ['amps', 'harmonic_distribution', 'f0_hz']),\n",
        "       (noise, ['noise_magnitudes']),\n",
        "       (add, ['noise/signal', 'harmonic/signal'])]\n",
        "\n",
        "processor_group = ddsp.processors.ProcessorGroup(dag=dag,\n",
        "                                                 name='processor_group')\n",
        "\n",
        "\n",
        "# Loss_functions\n",
        "spectral_loss = ddsp.losses.SpectralLoss(loss_type='L1',\n",
        "                                         mag_weight=1.0,\n",
        "                                         logmag_weight=1.0)\n",
        "\n",
        "with strategy.scope():\n",
        "  # Put it together in a model.\n",
        "  model = models.Autoencoder(preprocessor=preprocessor,\n",
        "                             encoder=None,\n",
        "                             decoder=decoder,\n",
        "                             processor_group=processor_group,\n",
        "                             losses=[spectral_loss])\n",
        "  trainer = trainers.Trainer(model, strategy, learning_rate=1e-3)"
      ],
      "execution_count": 5,
      "outputs": []
    },
    {
      "cell_type": "markdown",
      "metadata": {
        "id": "uAZgDMV9hGyp"
      },
      "source": [
        "## or [`gin`](https://github.com/google/gin-config)"
      ]
    },
    {
      "cell_type": "code",
      "metadata": {
        "id": "1JPmTwQshVya"
      },
      "source": [
        "gin_string = \"\"\"\n",
        "import ddsp\n",
        "import ddsp.training\n",
        "\n",
        "# Preprocessor\n",
        "models.Autoencoder.preprocessor = @preprocessing.F0LoudnessPreprocessor()\n",
        "preprocessing.F0LoudnessPreprocessor.time_steps = 1000\n",
        "\n",
        "\n",
        "# Encoder\n",
        "models.Autoencoder.encoder = None\n",
        "\n",
        "# Decoder\n",
        "models.Autoencoder.decoder = @decoders.RnnFcDecoder()\n",
        "decoders.RnnFcDecoder.rnn_channels = 256\n",
        "decoders.RnnFcDecoder.rnn_type = 'gru'\n",
        "decoders.RnnFcDecoder.ch = 256\n",
        "decoders.RnnFcDecoder.layers_per_stack = 1\n",
        "decoders.RnnFcDecoder.input_keys = ('ld_scaled', 'f0_scaled')\n",
        "decoders.RnnFcDecoder.output_splits = (('amps', 1),\n",
        "                                       ('harmonic_distribution', 20),\n",
        "                                       ('noise_magnitudes', 20))\n",
        "\n",
        "# ProcessorGroup\n",
        "models.Autoencoder.processor_group = @processors.ProcessorGroup()\n",
        "\n",
        "processors.ProcessorGroup.dag = [\n",
        "  (@harmonic/synths.Harmonic(),\n",
        "    ['amps', 'harmonic_distribution', 'f0_hz']),\n",
        "  (@noise/synths.FilteredNoise(),\n",
        "    ['noise_magnitudes']),\n",
        "  (@add/processors.Add(),\n",
        "    ['noise/signal', 'harmonic/signal']),\n",
        "]\n",
        "\n",
        "# Harmonic Synthesizer\n",
        "harmonic/synths.Harmonic.name = 'harmonic'\n",
        "harmonic/synths.Harmonic.n_samples = 64000\n",
        "harmonic/synths.Harmonic.scale_fn = @core.exp_sigmoid\n",
        "\n",
        "# Filtered Noise Synthesizer\n",
        "noise/synths.FilteredNoise.name = 'noise'\n",
        "noise/synths.FilteredNoise.n_samples = 64000\n",
        "noise/synths.FilteredNoise.window_size = 0\n",
        "noise/synths.FilteredNoise.scale_fn = @core.exp_sigmoid\n",
        "noise/synths.FilteredNoise.initial_bias = -10.0\n",
        "\n",
        "# Add\n",
        "add/processors.Add.name = 'add'\n",
        "\n",
        "models.Autoencoder.losses = [\n",
        "    @losses.SpectralLoss(),\n",
        "]\n",
        "losses.SpectralLoss.loss_type = 'L1'\n",
        "losses.SpectralLoss.mag_weight = 1.0\n",
        "losses.SpectralLoss.logmag_weight = 1.0\n",
        "\"\"\"\n",
        "\n",
        "with gin.unlock_config():\n",
        "  gin.parse_config(gin_string)\n",
        "\n",
        "with strategy.scope():\n",
        "  # Autoencoder arguments are filled by gin.\n",
        "  model = ddsp.training.models.Autoencoder()\n",
        "  trainer = trainers.Trainer(model, strategy, learning_rate=1e-4)"
      ],
      "execution_count": 6,
      "outputs": []
    },
    {
      "cell_type": "markdown",
      "metadata": {
        "id": "MnnxpYbRrPrp"
      },
      "source": [
        "# Train"
      ]
    },
    {
      "cell_type": "markdown",
      "metadata": {
        "id": "IGvCE5BbrWTU"
      },
      "source": [
        "## Build model"
      ]
    },
    {
      "cell_type": "code",
      "metadata": {
        "id": "1lQW604_QWm1",
        "colab": {
          "base_uri": "https://localhost:8080/"
        },
        "outputId": "4eaea54b-a164-401a-fa3a-c24351c229c9"
      },
      "source": [
        "# Build model, easiest to just run forward pass.\n",
        "dataset = trainer.distribute_dataset(dataset)\n",
        "trainer.build(next(iter(dataset)))"
      ],
      "execution_count": 7,
      "outputs": [
        {
          "output_type": "stream",
          "text": [
            "Model: \"autoencoder_1\"\n",
            "_________________________________________________________________\n",
            "Layer (type)                 Output Shape              Param #   \n",
            "=================================================================\n",
            "f0_loudness_preprocessor_1 ( multiple                  0         \n",
            "_________________________________________________________________\n",
            "rnn_fc_decoder_1 (RnnFcDecod multiple                  801321    \n",
            "_________________________________________________________________\n",
            "processor_group (ProcessorGr multiple                  0         \n",
            "_________________________________________________________________\n",
            "spectral_loss (SpectralLoss) multiple                  0         \n",
            "=================================================================\n",
            "Total params: 801,321\n",
            "Trainable params: 801,321\n",
            "Non-trainable params: 0\n",
            "_________________________________________________________________\n"
          ],
          "name": "stdout"
        }
      ]
    },
    {
      "cell_type": "markdown",
      "metadata": {
        "id": "RFEqt6e1DsqG"
      },
      "source": [
        "## Train Loop"
      ]
    },
    {
      "cell_type": "code",
      "metadata": {
        "id": "LWdoRIONDxri",
        "colab": {
          "base_uri": "https://localhost:8080/"
        },
        "outputId": "4416a63b-f4a8-4d7c-f9ab-4e9b8c35c72c"
      },
      "source": [
        "dataset_iter = iter(dataset)\n",
        "\n",
        "for i in range(300):\n",
        "  losses = trainer.train_step(dataset_iter)\n",
        "  res_str = 'step: {}\\t'.format(i)\n",
        "  for k, v in losses.items():\n",
        "    res_str += '{}: {:.2f}\\t'.format(k, v)\n",
        "  print(res_str)"
      ],
      "execution_count": 8,
      "outputs": [
        {
          "output_type": "stream",
          "text": [
            "step: 0\tspectral_loss: 6.94\ttotal_loss: 6.94\t\n",
            "step: 1\tspectral_loss: 6.01\ttotal_loss: 6.01\t\n",
            "step: 2\tspectral_loss: 5.44\ttotal_loss: 5.44\t\n",
            "step: 3\tspectral_loss: 4.70\ttotal_loss: 4.70\t\n",
            "step: 4\tspectral_loss: 4.20\ttotal_loss: 4.20\t\n",
            "step: 5\tspectral_loss: 3.88\ttotal_loss: 3.88\t\n",
            "step: 6\tspectral_loss: 3.49\ttotal_loss: 3.49\t\n",
            "step: 7\tspectral_loss: 3.14\ttotal_loss: 3.14\t\n",
            "step: 8\tspectral_loss: 3.43\ttotal_loss: 3.43\t\n",
            "step: 9\tspectral_loss: 3.36\ttotal_loss: 3.36\t\n",
            "step: 10\tspectral_loss: 3.32\ttotal_loss: 3.32\t\n",
            "step: 11\tspectral_loss: 3.28\ttotal_loss: 3.28\t\n",
            "step: 12\tspectral_loss: 3.18\ttotal_loss: 3.18\t\n",
            "step: 13\tspectral_loss: 3.13\ttotal_loss: 3.13\t\n",
            "step: 14\tspectral_loss: 3.08\ttotal_loss: 3.08\t\n",
            "step: 15\tspectral_loss: 2.98\ttotal_loss: 2.98\t\n",
            "step: 16\tspectral_loss: 2.88\ttotal_loss: 2.88\t\n",
            "step: 17\tspectral_loss: 2.83\ttotal_loss: 2.83\t\n",
            "step: 18\tspectral_loss: 2.82\ttotal_loss: 2.82\t\n",
            "step: 19\tspectral_loss: 2.80\ttotal_loss: 2.80\t\n",
            "step: 20\tspectral_loss: 2.75\ttotal_loss: 2.75\t\n",
            "step: 21\tspectral_loss: 2.69\ttotal_loss: 2.69\t\n",
            "step: 22\tspectral_loss: 2.64\ttotal_loss: 2.64\t\n",
            "step: 23\tspectral_loss: 2.59\ttotal_loss: 2.59\t\n",
            "step: 24\tspectral_loss: 2.53\ttotal_loss: 2.53\t\n",
            "step: 25\tspectral_loss: 2.47\ttotal_loss: 2.47\t\n",
            "step: 26\tspectral_loss: 2.41\ttotal_loss: 2.41\t\n",
            "step: 27\tspectral_loss: 2.36\ttotal_loss: 2.36\t\n",
            "step: 28\tspectral_loss: 2.30\ttotal_loss: 2.30\t\n",
            "step: 29\tspectral_loss: 2.25\ttotal_loss: 2.25\t\n",
            "step: 30\tspectral_loss: 2.20\ttotal_loss: 2.20\t\n",
            "step: 31\tspectral_loss: 2.17\ttotal_loss: 2.17\t\n",
            "step: 32\tspectral_loss: 2.13\ttotal_loss: 2.13\t\n",
            "step: 33\tspectral_loss: 2.10\ttotal_loss: 2.10\t\n",
            "step: 34\tspectral_loss: 2.08\ttotal_loss: 2.08\t\n",
            "step: 35\tspectral_loss: 2.05\ttotal_loss: 2.05\t\n",
            "step: 36\tspectral_loss: 2.03\ttotal_loss: 2.03\t\n",
            "step: 37\tspectral_loss: 2.02\ttotal_loss: 2.02\t\n",
            "step: 38\tspectral_loss: 2.00\ttotal_loss: 2.00\t\n",
            "step: 39\tspectral_loss: 1.99\ttotal_loss: 1.99\t\n",
            "step: 40\tspectral_loss: 1.97\ttotal_loss: 1.97\t\n",
            "step: 41\tspectral_loss: 1.96\ttotal_loss: 1.96\t\n",
            "step: 42\tspectral_loss: 1.94\ttotal_loss: 1.94\t\n",
            "step: 43\tspectral_loss: 1.93\ttotal_loss: 1.93\t\n",
            "step: 44\tspectral_loss: 1.92\ttotal_loss: 1.92\t\n",
            "step: 45\tspectral_loss: 1.91\ttotal_loss: 1.91\t\n",
            "step: 46\tspectral_loss: 1.90\ttotal_loss: 1.90\t\n",
            "step: 47\tspectral_loss: 1.89\ttotal_loss: 1.89\t\n",
            "step: 48\tspectral_loss: 1.88\ttotal_loss: 1.88\t\n",
            "step: 49\tspectral_loss: 1.87\ttotal_loss: 1.87\t\n",
            "step: 50\tspectral_loss: 1.85\ttotal_loss: 1.85\t\n",
            "step: 51\tspectral_loss: 1.84\ttotal_loss: 1.84\t\n",
            "step: 52\tspectral_loss: 1.83\ttotal_loss: 1.83\t\n",
            "step: 53\tspectral_loss: 1.82\ttotal_loss: 1.82\t\n",
            "step: 54\tspectral_loss: 1.81\ttotal_loss: 1.81\t\n",
            "step: 55\tspectral_loss: 1.81\ttotal_loss: 1.81\t\n",
            "step: 56\tspectral_loss: 1.80\ttotal_loss: 1.80\t\n",
            "step: 57\tspectral_loss: 1.79\ttotal_loss: 1.79\t\n",
            "step: 58\tspectral_loss: 1.78\ttotal_loss: 1.78\t\n",
            "step: 59\tspectral_loss: 1.77\ttotal_loss: 1.77\t\n",
            "step: 60\tspectral_loss: 1.76\ttotal_loss: 1.76\t\n",
            "step: 61\tspectral_loss: 1.75\ttotal_loss: 1.75\t\n",
            "step: 62\tspectral_loss: 1.74\ttotal_loss: 1.74\t\n",
            "step: 63\tspectral_loss: 1.74\ttotal_loss: 1.74\t\n",
            "step: 64\tspectral_loss: 1.73\ttotal_loss: 1.73\t\n",
            "step: 65\tspectral_loss: 1.72\ttotal_loss: 1.72\t\n",
            "step: 66\tspectral_loss: 1.71\ttotal_loss: 1.71\t\n",
            "step: 67\tspectral_loss: 1.70\ttotal_loss: 1.70\t\n",
            "step: 68\tspectral_loss: 1.69\ttotal_loss: 1.69\t\n",
            "step: 69\tspectral_loss: 1.69\ttotal_loss: 1.69\t\n",
            "step: 70\tspectral_loss: 1.68\ttotal_loss: 1.68\t\n",
            "step: 71\tspectral_loss: 1.67\ttotal_loss: 1.67\t\n",
            "step: 72\tspectral_loss: 1.66\ttotal_loss: 1.66\t\n",
            "step: 73\tspectral_loss: 1.65\ttotal_loss: 1.65\t\n",
            "step: 74\tspectral_loss: 1.64\ttotal_loss: 1.64\t\n",
            "step: 75\tspectral_loss: 1.64\ttotal_loss: 1.64\t\n",
            "step: 76\tspectral_loss: 1.63\ttotal_loss: 1.63\t\n",
            "step: 77\tspectral_loss: 1.63\ttotal_loss: 1.63\t\n",
            "step: 78\tspectral_loss: 1.62\ttotal_loss: 1.62\t\n",
            "step: 79\tspectral_loss: 1.61\ttotal_loss: 1.61\t\n",
            "step: 80\tspectral_loss: 1.61\ttotal_loss: 1.61\t\n",
            "step: 81\tspectral_loss: 1.60\ttotal_loss: 1.60\t\n",
            "step: 82\tspectral_loss: 1.60\ttotal_loss: 1.60\t\n",
            "step: 83\tspectral_loss: 1.59\ttotal_loss: 1.59\t\n",
            "step: 84\tspectral_loss: 1.59\ttotal_loss: 1.59\t\n",
            "step: 85\tspectral_loss: 1.58\ttotal_loss: 1.58\t\n",
            "step: 86\tspectral_loss: 1.58\ttotal_loss: 1.58\t\n",
            "step: 87\tspectral_loss: 1.57\ttotal_loss: 1.57\t\n",
            "step: 88\tspectral_loss: 1.57\ttotal_loss: 1.57\t\n",
            "step: 89\tspectral_loss: 1.56\ttotal_loss: 1.56\t\n",
            "step: 90\tspectral_loss: 1.56\ttotal_loss: 1.56\t\n",
            "step: 91\tspectral_loss: 1.56\ttotal_loss: 1.56\t\n",
            "step: 92\tspectral_loss: 1.56\ttotal_loss: 1.56\t\n",
            "step: 93\tspectral_loss: 1.55\ttotal_loss: 1.55\t\n",
            "step: 94\tspectral_loss: 1.55\ttotal_loss: 1.55\t\n",
            "step: 95\tspectral_loss: 1.55\ttotal_loss: 1.55\t\n",
            "step: 96\tspectral_loss: 1.54\ttotal_loss: 1.54\t\n",
            "step: 97\tspectral_loss: 1.54\ttotal_loss: 1.54\t\n",
            "step: 98\tspectral_loss: 1.53\ttotal_loss: 1.53\t\n",
            "step: 99\tspectral_loss: 1.53\ttotal_loss: 1.53\t\n",
            "step: 100\tspectral_loss: 1.53\ttotal_loss: 1.53\t\n",
            "step: 101\tspectral_loss: 1.52\ttotal_loss: 1.52\t\n",
            "step: 102\tspectral_loss: 1.52\ttotal_loss: 1.52\t\n",
            "step: 103\tspectral_loss: 1.52\ttotal_loss: 1.52\t\n",
            "step: 104\tspectral_loss: 1.52\ttotal_loss: 1.52\t\n",
            "step: 105\tspectral_loss: 1.51\ttotal_loss: 1.51\t\n",
            "step: 106\tspectral_loss: 1.51\ttotal_loss: 1.51\t\n",
            "step: 107\tspectral_loss: 1.50\ttotal_loss: 1.50\t\n",
            "step: 108\tspectral_loss: 1.50\ttotal_loss: 1.50\t\n",
            "step: 109\tspectral_loss: 1.50\ttotal_loss: 1.50\t\n",
            "step: 110\tspectral_loss: 1.49\ttotal_loss: 1.49\t\n",
            "step: 111\tspectral_loss: 1.49\ttotal_loss: 1.49\t\n",
            "step: 112\tspectral_loss: 1.49\ttotal_loss: 1.49\t\n",
            "step: 113\tspectral_loss: 1.48\ttotal_loss: 1.48\t\n",
            "step: 114\tspectral_loss: 1.48\ttotal_loss: 1.48\t\n",
            "step: 115\tspectral_loss: 1.48\ttotal_loss: 1.48\t\n",
            "step: 116\tspectral_loss: 1.48\ttotal_loss: 1.48\t\n",
            "step: 117\tspectral_loss: 1.47\ttotal_loss: 1.47\t\n",
            "step: 118\tspectral_loss: 1.47\ttotal_loss: 1.47\t\n",
            "step: 119\tspectral_loss: 1.46\ttotal_loss: 1.46\t\n",
            "step: 120\tspectral_loss: 1.46\ttotal_loss: 1.46\t\n",
            "step: 121\tspectral_loss: 1.46\ttotal_loss: 1.46\t\n",
            "step: 122\tspectral_loss: 1.45\ttotal_loss: 1.45\t\n",
            "step: 123\tspectral_loss: 1.45\ttotal_loss: 1.45\t\n",
            "step: 124\tspectral_loss: 1.45\ttotal_loss: 1.45\t\n",
            "step: 125\tspectral_loss: 1.45\ttotal_loss: 1.45\t\n",
            "step: 126\tspectral_loss: 1.44\ttotal_loss: 1.44\t\n",
            "step: 127\tspectral_loss: 1.44\ttotal_loss: 1.44\t\n",
            "step: 128\tspectral_loss: 1.43\ttotal_loss: 1.43\t\n",
            "step: 129\tspectral_loss: 1.43\ttotal_loss: 1.43\t\n",
            "step: 130\tspectral_loss: 1.43\ttotal_loss: 1.43\t\n",
            "step: 131\tspectral_loss: 1.42\ttotal_loss: 1.42\t\n",
            "step: 132\tspectral_loss: 1.42\ttotal_loss: 1.42\t\n",
            "step: 133\tspectral_loss: 1.42\ttotal_loss: 1.42\t\n",
            "step: 134\tspectral_loss: 1.41\ttotal_loss: 1.41\t\n",
            "step: 135\tspectral_loss: 1.41\ttotal_loss: 1.41\t\n",
            "step: 136\tspectral_loss: 1.41\ttotal_loss: 1.41\t\n",
            "step: 137\tspectral_loss: 1.40\ttotal_loss: 1.40\t\n",
            "step: 138\tspectral_loss: 1.40\ttotal_loss: 1.40\t\n",
            "step: 139\tspectral_loss: 1.39\ttotal_loss: 1.39\t\n",
            "step: 140\tspectral_loss: 1.39\ttotal_loss: 1.39\t\n",
            "step: 141\tspectral_loss: 1.38\ttotal_loss: 1.38\t\n",
            "step: 142\tspectral_loss: 1.38\ttotal_loss: 1.38\t\n",
            "step: 143\tspectral_loss: 1.37\ttotal_loss: 1.37\t\n",
            "step: 144\tspectral_loss: 1.37\ttotal_loss: 1.37\t\n",
            "step: 145\tspectral_loss: 1.36\ttotal_loss: 1.36\t\n",
            "step: 146\tspectral_loss: 1.36\ttotal_loss: 1.36\t\n",
            "step: 147\tspectral_loss: 1.35\ttotal_loss: 1.35\t\n",
            "step: 148\tspectral_loss: 1.35\ttotal_loss: 1.35\t\n",
            "step: 149\tspectral_loss: 1.34\ttotal_loss: 1.34\t\n",
            "step: 150\tspectral_loss: 1.34\ttotal_loss: 1.34\t\n",
            "step: 151\tspectral_loss: 1.34\ttotal_loss: 1.34\t\n",
            "step: 152\tspectral_loss: 1.33\ttotal_loss: 1.33\t\n",
            "step: 153\tspectral_loss: 1.34\ttotal_loss: 1.34\t\n",
            "step: 154\tspectral_loss: 1.33\ttotal_loss: 1.33\t\n",
            "step: 155\tspectral_loss: 1.33\ttotal_loss: 1.33\t\n",
            "step: 156\tspectral_loss: 1.33\ttotal_loss: 1.33\t\n",
            "step: 157\tspectral_loss: 1.31\ttotal_loss: 1.31\t\n",
            "step: 158\tspectral_loss: 1.32\ttotal_loss: 1.32\t\n",
            "step: 159\tspectral_loss: 1.31\ttotal_loss: 1.31\t\n",
            "step: 160\tspectral_loss: 1.32\ttotal_loss: 1.32\t\n",
            "step: 161\tspectral_loss: 1.31\ttotal_loss: 1.31\t\n",
            "step: 162\tspectral_loss: 1.30\ttotal_loss: 1.30\t\n",
            "step: 163\tspectral_loss: 1.29\ttotal_loss: 1.29\t\n",
            "step: 164\tspectral_loss: 1.29\ttotal_loss: 1.29\t\n",
            "step: 165\tspectral_loss: 1.28\ttotal_loss: 1.28\t\n",
            "step: 166\tspectral_loss: 1.29\ttotal_loss: 1.29\t\n",
            "step: 167\tspectral_loss: 1.28\ttotal_loss: 1.28\t\n",
            "step: 168\tspectral_loss: 1.26\ttotal_loss: 1.26\t\n",
            "step: 169\tspectral_loss: 1.27\ttotal_loss: 1.27\t\n",
            "step: 170\tspectral_loss: 1.26\ttotal_loss: 1.26\t\n",
            "step: 171\tspectral_loss: 1.26\ttotal_loss: 1.26\t\n",
            "step: 172\tspectral_loss: 1.26\ttotal_loss: 1.26\t\n",
            "step: 173\tspectral_loss: 1.26\ttotal_loss: 1.26\t\n",
            "step: 174\tspectral_loss: 1.25\ttotal_loss: 1.25\t\n",
            "step: 175\tspectral_loss: 1.25\ttotal_loss: 1.25\t\n",
            "step: 176\tspectral_loss: 1.25\ttotal_loss: 1.25\t\n",
            "step: 177\tspectral_loss: 1.25\ttotal_loss: 1.25\t\n",
            "step: 178\tspectral_loss: 1.24\ttotal_loss: 1.24\t\n",
            "step: 179\tspectral_loss: 1.23\ttotal_loss: 1.23\t\n",
            "step: 180\tspectral_loss: 1.23\ttotal_loss: 1.23\t\n",
            "step: 181\tspectral_loss: 1.22\ttotal_loss: 1.22\t\n",
            "step: 182\tspectral_loss: 1.21\ttotal_loss: 1.21\t\n",
            "step: 183\tspectral_loss: 1.20\ttotal_loss: 1.20\t\n",
            "step: 184\tspectral_loss: 1.20\ttotal_loss: 1.20\t\n",
            "step: 185\tspectral_loss: 1.19\ttotal_loss: 1.19\t\n",
            "step: 186\tspectral_loss: 1.20\ttotal_loss: 1.20\t\n",
            "step: 187\tspectral_loss: 1.20\ttotal_loss: 1.20\t\n",
            "step: 188\tspectral_loss: 1.19\ttotal_loss: 1.19\t\n",
            "step: 189\tspectral_loss: 1.18\ttotal_loss: 1.18\t\n",
            "step: 190\tspectral_loss: 1.17\ttotal_loss: 1.17\t\n",
            "step: 191\tspectral_loss: 1.17\ttotal_loss: 1.17\t\n",
            "step: 192\tspectral_loss: 1.16\ttotal_loss: 1.16\t\n",
            "step: 193\tspectral_loss: 1.16\ttotal_loss: 1.16\t\n",
            "step: 194\tspectral_loss: 1.15\ttotal_loss: 1.15\t\n",
            "step: 195\tspectral_loss: 1.14\ttotal_loss: 1.14\t\n",
            "step: 196\tspectral_loss: 1.13\ttotal_loss: 1.13\t\n",
            "step: 197\tspectral_loss: 1.13\ttotal_loss: 1.13\t\n",
            "step: 198\tspectral_loss: 1.14\ttotal_loss: 1.14\t\n",
            "step: 199\tspectral_loss: 1.13\ttotal_loss: 1.13\t\n",
            "step: 200\tspectral_loss: 1.13\ttotal_loss: 1.13\t\n",
            "step: 201\tspectral_loss: 1.12\ttotal_loss: 1.12\t\n",
            "step: 202\tspectral_loss: 1.14\ttotal_loss: 1.14\t\n",
            "step: 203\tspectral_loss: 1.13\ttotal_loss: 1.13\t\n",
            "step: 204\tspectral_loss: 1.12\ttotal_loss: 1.12\t\n",
            "step: 205\tspectral_loss: 1.13\ttotal_loss: 1.13\t\n",
            "step: 206\tspectral_loss: 1.12\ttotal_loss: 1.12\t\n",
            "step: 207\tspectral_loss: 1.11\ttotal_loss: 1.11\t\n",
            "step: 208\tspectral_loss: 1.12\ttotal_loss: 1.12\t\n",
            "step: 209\tspectral_loss: 1.11\ttotal_loss: 1.11\t\n",
            "step: 210\tspectral_loss: 1.12\ttotal_loss: 1.12\t\n",
            "step: 211\tspectral_loss: 1.12\ttotal_loss: 1.12\t\n",
            "step: 212\tspectral_loss: 1.10\ttotal_loss: 1.10\t\n",
            "step: 213\tspectral_loss: 1.11\ttotal_loss: 1.11\t\n",
            "step: 214\tspectral_loss: 1.10\ttotal_loss: 1.10\t\n",
            "step: 215\tspectral_loss: 1.09\ttotal_loss: 1.09\t\n",
            "step: 216\tspectral_loss: 1.10\ttotal_loss: 1.10\t\n",
            "step: 217\tspectral_loss: 1.09\ttotal_loss: 1.09\t\n",
            "step: 218\tspectral_loss: 1.10\ttotal_loss: 1.10\t\n",
            "step: 219\tspectral_loss: 1.09\ttotal_loss: 1.09\t\n",
            "step: 220\tspectral_loss: 1.09\ttotal_loss: 1.09\t\n",
            "step: 221\tspectral_loss: 1.09\ttotal_loss: 1.09\t\n",
            "step: 222\tspectral_loss: 1.09\ttotal_loss: 1.09\t\n",
            "step: 223\tspectral_loss: 1.08\ttotal_loss: 1.08\t\n",
            "step: 224\tspectral_loss: 1.09\ttotal_loss: 1.09\t\n",
            "step: 225\tspectral_loss: 1.08\ttotal_loss: 1.08\t\n",
            "step: 226\tspectral_loss: 1.09\ttotal_loss: 1.09\t\n",
            "step: 227\tspectral_loss: 1.10\ttotal_loss: 1.10\t\n",
            "step: 228\tspectral_loss: 1.08\ttotal_loss: 1.08\t\n",
            "step: 229\tspectral_loss: 1.08\ttotal_loss: 1.08\t\n",
            "step: 230\tspectral_loss: 1.07\ttotal_loss: 1.07\t\n",
            "step: 231\tspectral_loss: 1.08\ttotal_loss: 1.08\t\n",
            "step: 232\tspectral_loss: 1.07\ttotal_loss: 1.07\t\n",
            "step: 233\tspectral_loss: 1.07\ttotal_loss: 1.07\t\n",
            "step: 234\tspectral_loss: 1.07\ttotal_loss: 1.07\t\n",
            "step: 235\tspectral_loss: 1.08\ttotal_loss: 1.08\t\n",
            "step: 236\tspectral_loss: 1.07\ttotal_loss: 1.07\t\n",
            "step: 237\tspectral_loss: 1.07\ttotal_loss: 1.07\t\n",
            "step: 238\tspectral_loss: 1.07\ttotal_loss: 1.07\t\n",
            "step: 239\tspectral_loss: 1.08\ttotal_loss: 1.08\t\n",
            "step: 240\tspectral_loss: 1.08\ttotal_loss: 1.08\t\n",
            "step: 241\tspectral_loss: 1.07\ttotal_loss: 1.07\t\n",
            "step: 242\tspectral_loss: 1.07\ttotal_loss: 1.07\t\n",
            "step: 243\tspectral_loss: 1.07\ttotal_loss: 1.07\t\n",
            "step: 244\tspectral_loss: 1.06\ttotal_loss: 1.06\t\n",
            "step: 245\tspectral_loss: 1.07\ttotal_loss: 1.07\t\n",
            "step: 246\tspectral_loss: 1.06\ttotal_loss: 1.06\t\n",
            "step: 247\tspectral_loss: 1.07\ttotal_loss: 1.07\t\n",
            "step: 248\tspectral_loss: 1.06\ttotal_loss: 1.06\t\n",
            "step: 249\tspectral_loss: 1.07\ttotal_loss: 1.07\t\n",
            "step: 250\tspectral_loss: 1.06\ttotal_loss: 1.06\t\n",
            "step: 251\tspectral_loss: 1.06\ttotal_loss: 1.06\t\n",
            "step: 252\tspectral_loss: 1.06\ttotal_loss: 1.06\t\n",
            "step: 253\tspectral_loss: 1.06\ttotal_loss: 1.06\t\n",
            "step: 254\tspectral_loss: 1.06\ttotal_loss: 1.06\t\n",
            "step: 255\tspectral_loss: 1.06\ttotal_loss: 1.06\t\n",
            "step: 256\tspectral_loss: 1.06\ttotal_loss: 1.06\t\n",
            "step: 257\tspectral_loss: 1.06\ttotal_loss: 1.06\t\n",
            "step: 258\tspectral_loss: 1.06\ttotal_loss: 1.06\t\n",
            "step: 259\tspectral_loss: 1.05\ttotal_loss: 1.05\t\n",
            "step: 260\tspectral_loss: 1.05\ttotal_loss: 1.05\t\n",
            "step: 261\tspectral_loss: 1.05\ttotal_loss: 1.05\t\n",
            "step: 262\tspectral_loss: 1.05\ttotal_loss: 1.05\t\n",
            "step: 263\tspectral_loss: 1.05\ttotal_loss: 1.05\t\n",
            "step: 264\tspectral_loss: 1.05\ttotal_loss: 1.05\t\n",
            "step: 265\tspectral_loss: 1.05\ttotal_loss: 1.05\t\n",
            "step: 266\tspectral_loss: 1.04\ttotal_loss: 1.04\t\n",
            "step: 267\tspectral_loss: 1.05\ttotal_loss: 1.05\t\n",
            "step: 268\tspectral_loss: 1.04\ttotal_loss: 1.04\t\n",
            "step: 269\tspectral_loss: 1.03\ttotal_loss: 1.03\t\n",
            "step: 270\tspectral_loss: 1.03\ttotal_loss: 1.03\t\n",
            "step: 271\tspectral_loss: 1.03\ttotal_loss: 1.03\t\n",
            "step: 272\tspectral_loss: 1.03\ttotal_loss: 1.03\t\n",
            "step: 273\tspectral_loss: 1.03\ttotal_loss: 1.03\t\n",
            "step: 274\tspectral_loss: 1.04\ttotal_loss: 1.04\t\n",
            "step: 275\tspectral_loss: 1.02\ttotal_loss: 1.02\t\n",
            "step: 276\tspectral_loss: 1.03\ttotal_loss: 1.03\t\n",
            "step: 277\tspectral_loss: 1.03\ttotal_loss: 1.03\t\n",
            "step: 278\tspectral_loss: 1.02\ttotal_loss: 1.02\t\n",
            "step: 279\tspectral_loss: 1.04\ttotal_loss: 1.04\t\n",
            "step: 280\tspectral_loss: 1.04\ttotal_loss: 1.04\t\n",
            "step: 281\tspectral_loss: 1.02\ttotal_loss: 1.02\t\n",
            "step: 282\tspectral_loss: 1.05\ttotal_loss: 1.05\t\n",
            "step: 283\tspectral_loss: 1.05\ttotal_loss: 1.05\t\n",
            "step: 284\tspectral_loss: 1.03\ttotal_loss: 1.03\t\n",
            "step: 285\tspectral_loss: 1.03\ttotal_loss: 1.03\t\n",
            "step: 286\tspectral_loss: 1.05\ttotal_loss: 1.05\t\n",
            "step: 287\tspectral_loss: 1.04\ttotal_loss: 1.04\t\n",
            "step: 288\tspectral_loss: 1.03\ttotal_loss: 1.03\t\n",
            "step: 289\tspectral_loss: 1.05\ttotal_loss: 1.05\t\n",
            "step: 290\tspectral_loss: 1.07\ttotal_loss: 1.07\t\n",
            "step: 291\tspectral_loss: 1.05\ttotal_loss: 1.05\t\n",
            "step: 292\tspectral_loss: 1.02\ttotal_loss: 1.02\t\n",
            "step: 293\tspectral_loss: 1.03\ttotal_loss: 1.03\t\n",
            "step: 294\tspectral_loss: 1.03\ttotal_loss: 1.03\t\n",
            "step: 295\tspectral_loss: 1.02\ttotal_loss: 1.02\t\n",
            "step: 296\tspectral_loss: 1.02\ttotal_loss: 1.02\t\n",
            "step: 297\tspectral_loss: 1.01\ttotal_loss: 1.01\t\n",
            "step: 298\tspectral_loss: 1.01\ttotal_loss: 1.01\t\n",
            "step: 299\tspectral_loss: 1.01\ttotal_loss: 1.01\t\n"
          ],
          "name": "stdout"
        }
      ]
    },
    {
      "cell_type": "markdown",
      "metadata": {
        "id": "2cj220vSF8_Y"
      },
      "source": [
        "# Analyze results"
      ]
    },
    {
      "cell_type": "code",
      "metadata": {
        "id": "mDU_FysURm_Z",
        "colab": {
          "base_uri": "https://localhost:8080/"
        },
        "outputId": "a0d90c8f-78a2-455f-ac6b-dd84968e6a0a"
      },
      "source": [
        "# Run a batch of predictions.\n",
        "start_time = time.time()\n",
        "controls =  model(next(dataset_iter))\n",
        "audio_gen = model.get_audio_from_outputs(controls)\n",
        "print('Prediction took %.1f seconds' % (time.time() - start_time))"
      ],
      "execution_count": 9,
      "outputs": [
        {
          "output_type": "stream",
          "text": [
            "Prediction took 2.6 seconds\n"
          ],
          "name": "stdout"
        }
      ]
    },
    {
      "cell_type": "code",
      "metadata": {
        "id": "AlE5kkroHiFr",
        "colab": {
          "base_uri": "https://localhost:8080/",
          "height": 1000
        },
        "outputId": "4205f375-bf9f-4083-a678-ca57de9d989a"
      },
      "source": [
        "print('Original Audio')\n",
        "play(audio)\n",
        "print('Resynthesized Audio')\n",
        "play(audio_gen)\n",
        "print('Filtered Noise Audio')\n",
        "audio_noise = controls['noise']['signal']\n",
        "play(audio_noise)\n",
        "\n",
        "specplot(audio)\n",
        "specplot(audio_gen)\n",
        "specplot(audio_noise)"
      ],
      "execution_count": 14,
      "outputs": [
        {
          "output_type": "stream",
          "text": [
            "Original Audio\n"
          ],
          "name": "stdout"
        },
        {
          "output_type": "display_data",
          "data": {
            "text/html": [
              "<div id=\"id_8\"> </div>"
            ],
            "text/plain": [
              "<IPython.core.display.HTML object>"
            ]
          },
          "metadata": {
            "tags": []
          }
        },
        {
          "output_type": "stream",
          "text": [
            "Resynthesized Audio\n"
          ],
          "name": "stdout"
        },
        {
          "output_type": "display_data",
          "data": {
            "text/html": [
              "<div id=\"id_9\"> </div>"
            ],
            "text/plain": [
              "<IPython.core.display.HTML object>"
            ]
          },
          "metadata": {
            "tags": []
          }
        },
        {
          "output_type": "stream",
          "text": [
            "Filtered Noise Audio\n"
          ],
          "name": "stdout"
        },
        {
          "output_type": "display_data",
          "data": {
            "text/html": [
              "<div id=\"id_10\"> </div>"
            ],
            "text/plain": [
              "<IPython.core.display.HTML object>"
            ]
          },
          "metadata": {
            "tags": []
          }
        },
        {
          "output_type": "display_data",
          "data": {
            "image/png": "[encoded data removed]",
            "text/plain": [
              "<Figure size 288x331.976 with 1 Axes>"
            ]
          },
          "metadata": {
            "tags": []
          }
        },
        {
          "output_type": "display_data",
          "data": {
            "image/png": "[encoded data removed]",
            "text/plain": [
              "<Figure size 288x331.976 with 1 Axes>"
            ]
          },
          "metadata": {
            "tags": []
          }
        },
        {
          "output_type": "display_data",
          "data": {
            "image/png": "[encoded data removed]",
            "text/plain": [
              "<Figure size 288x331.976 with 1 Axes>"
            ]
          },
          "metadata": {
            "tags": []
          }
        }
      ]
    },
    {
      "cell_type": "code",
      "metadata": {
        "id": "DVhoLzV-ZYav",
        "colab": {
          "base_uri": "https://localhost:8080/",
          "height": 809
        },
        "outputId": "ba7f4e74-735d-4eb6-9105-af2e3af9b905"
      },
      "source": [
        "batch_idx = 0\n",
        "get = lambda key: ddsp.core.nested_lookup(key, controls)[batch_idx]\n",
        "\n",
        "amps = get('harmonic/controls/amplitudes')\n",
        "harmonic_distribution = get('harmonic/controls/harmonic_distribution')\n",
        "noise_magnitudes = get('noise/controls/magnitudes')\n",
        "f0_hz = get('f0_hz')\n",
        "loudness = get('loudness_db')\n",
        "\n",
        "audio_noise = get('noise/signal')\n",
        "\n",
        "f, ax = plt.subplots(1, 2, figsize=(14, 4))\n",
        "f.suptitle('Input Features', fontsize=16)\n",
        "ax[0].plot(loudness)\n",
        "ax[0].set_ylabel('Loudness')\n",
        "ax[1].plot(f0_hz)\n",
        "ax[1].set_ylabel('F0_Hz')\n",
        "\n",
        "f, ax = plt.subplots(1, 2, figsize=(14, 4))\n",
        "f.suptitle('Synth Params', fontsize=16)\n",
        "ax[0].semilogy(amps)\n",
        "ax[0].set_ylabel('Amps')\n",
        "ax[0].set_ylim(1e-5, 2)\n",
        "# ax[0].semilogy(harmonic_distribution)\n",
        "ax[1].matshow(np.rot90(np.log10(harmonic_distribution + 1e-6)),\n",
        "              cmap=plt.cm.magma, \n",
        "              aspect='auto')\n",
        "ax[1].set_ylabel('Harmonic Distribution')\n",
        "ax[1].set_xticks([])\n",
        "_ = ax[1].set_yticks([])\n",
        "\n",
        "f, ax = plt.subplots(1, 1, figsize=(7, 4))\n",
        "# f.suptitle('Filtered Noise Params', fontsize=16)\n",
        "ax.matshow(np.rot90(np.log10(noise_magnitudes + 1e-6)), \n",
        "           cmap=plt.cm.magma, \n",
        "           aspect='auto')\n",
        "ax.set_ylabel('Filtered Noise Magnitudes')\n",
        "ax.set_xticks([])\n",
        "_ = ax.set_yticks([])\n"
      ],
      "execution_count": 11,
      "outputs": [
        {
          "output_type": "display_data",
          "data": {
            "image/png": "[encoded data removed]",
            "text/plain": [
              "<Figure size 1008x288 with 2 Axes>"
            ]
          },
          "metadata": {
            "tags": [],
            "needs_background": "light"
          }
        },
        {
          "output_type": "display_data",
          "data": {
            "image/png": "[encoded data removed]",
            "text/plain": [
              "<Figure size 1008x288 with 2 Axes>"
            ]
          },
          "metadata": {
            "tags": [],
            "needs_background": "light"
          }
        },
        {
          "output_type": "display_data",
          "data": {
            "image/png": "[encoded data removed]",
            "text/plain": [
              "<Figure size 504x288 with 1 Axes>"
            ]
          },
          "metadata": {
            "tags": []
          }
        }
      ]
    }
  ]
}